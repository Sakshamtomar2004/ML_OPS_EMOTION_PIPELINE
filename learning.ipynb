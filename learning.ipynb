{
 "cells": [
  {
   "cell_type": "code",
   "execution_count": 2,
   "id": "ac432047",
   "metadata": {},
   "outputs": [],
   "source": [
    "import os"
   ]
  },
  {
   "cell_type": "code",
   "execution_count": 3,
   "id": "9d8955a4",
   "metadata": {},
   "outputs": [],
   "source": [
    "root_dir=\"Artifacts/real\""
   ]
  },
  {
   "cell_type": "code",
   "execution_count": 6,
   "id": "f7754a0a",
   "metadata": {},
   "outputs": [
    {
     "name": "stdout",
     "output_type": "stream",
     "text": [
      "Artifacts/real\\a\n",
      "Artifacts/real\\b\n",
      "Artifacts/real\\c\n"
     ]
    }
   ],
   "source": [
    "for x in ['a','b','c']:\n",
    "    cat_path=os.path.join(root_dir,x)\n",
    "    print(cat_path)"
   ]
  },
  {
   "cell_type": "code",
   "execution_count": null,
   "id": "683f3562",
   "metadata": {},
   "outputs": [],
   "source": [
    "for x in ['a', 'b', 'c']:\n",
    "    cat_path = os.path.join(root_dir, x)\n",
    "    print(cat_path)\n"
   ]
  }
 ],
 "metadata": {
  "kernelspec": {
   "display_name": ".venv",
   "language": "python",
   "name": "python3"
  },
  "language_info": {
   "codemirror_mode": {
    "name": "ipython",
    "version": 3
   },
   "file_extension": ".py",
   "mimetype": "text/x-python",
   "name": "python",
   "nbconvert_exporter": "python",
   "pygments_lexer": "ipython3",
   "version": "3.13.5"
  }
 },
 "nbformat": 4,
 "nbformat_minor": 5
}

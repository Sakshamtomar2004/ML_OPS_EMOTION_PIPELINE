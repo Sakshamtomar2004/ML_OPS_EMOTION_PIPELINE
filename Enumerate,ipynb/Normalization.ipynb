{
 "cells": [
  {
   "cell_type": "markdown",
   "id": "fa8548e1",
   "metadata": {},
   "source": [
    "Standardization (also known as Z-score normalization) is a preprocessing technique that transforms data to have a mean of 0 and a standard deviation of 1. The formula is:\n",
    "\n",
    "text"
   ]
  },
  {
   "cell_type": "code",
   "execution_count": null,
   "id": "e56b89ad",
   "metadata": {},
   "outputs": [],
   "source": [
    "Z = (X - μ) / σ"
   ]
  },
  {
   "cell_type": "code",
   "execution_count": null,
   "id": "a68fba7b",
   "metadata": {},
   "outputs": [],
   "source": []
  }
 ],
 "metadata": {
  "kernelspec": {
   "display_name": ".venv",
   "language": "python",
   "name": "python3"
  },
  "language_info": {
   "name": "python",
   "version": "3.13.5"
  }
 },
 "nbformat": 4,
 "nbformat_minor": 5
}

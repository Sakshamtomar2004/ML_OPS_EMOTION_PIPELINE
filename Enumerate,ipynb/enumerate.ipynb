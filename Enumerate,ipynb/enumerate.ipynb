{
 "cells": [
  {
   "cell_type": "code",
   "execution_count": 1,
   "id": "b323db82",
   "metadata": {},
   "outputs": [
    {
     "name": "stdout",
     "output_type": "stream",
     "text": [
      "0 Apple\n",
      "1 Banana\n",
      "2 Cherry\n"
     ]
    }
   ],
   "source": [
    "fruits=['Apple','Banana','Cherry']\n",
    "\n",
    "for idx,fruit in enumerate(fruits):\n",
    "    print(idx,fruit)"
   ]
  },
  {
   "cell_type": "markdown",
   "id": "ba67c51b",
   "metadata": {},
   "source": [
    "For starting index with 1"
   ]
  },
  {
   "cell_type": "code",
   "execution_count": 2,
   "id": "0d988532",
   "metadata": {},
   "outputs": [
    {
     "name": "stdout",
     "output_type": "stream",
     "text": [
      "1 Apple\n",
      "2 Banana\n",
      "3 Cherry\n"
     ]
    }
   ],
   "source": [
    "for idx, fruit in enumerate(fruits, start=1):\n",
    "    print(idx, fruit)\n",
    "# Output:\n",
    "# 1 apple\n",
    "# 2 banana\n",
    "# 3 cherry\n"
   ]
  },
  {
   "cell_type": "code",
   "execution_count": 3,
   "id": "d095285b",
   "metadata": {},
   "outputs": [],
   "source": [
    "category_set=['Ram','shyam']"
   ]
  },
  {
   "cell_type": "markdown",
   "id": "60351663",
   "metadata": {},
   "source": [
    "DICT CMPREHENSION"
   ]
  },
  {
   "cell_type": "code",
   "execution_count": 4,
   "id": "b80eb7b9",
   "metadata": {},
   "outputs": [],
   "source": [
    "category_to_idx = {cat: idx for idx, cat in enumerate(category_set)}\n"
   ]
  },
  {
   "cell_type": "code",
   "execution_count": 5,
   "id": "b9d9db37",
   "metadata": {},
   "outputs": [
    {
     "data": {
      "text/plain": [
       "{'Ram': 0, 'shyam': 1}"
      ]
     },
     "execution_count": 5,
     "metadata": {},
     "output_type": "execute_result"
    }
   ],
   "source": [
    "category_to_idx"
   ]
  },
  {
   "cell_type": "code",
   "execution_count": 6,
   "id": "ef0eff87",
   "metadata": {},
   "outputs": [
    {
     "name": "stdout",
     "output_type": "stream",
     "text": [
      "[(1, 'red'), (2, 'green'), (3, 'blue')]\n"
     ]
    }
   ],
   "source": [
    "colors = ['red', 'green', 'blue']\n",
    "# Create list of tuples (index, color)\n",
    "indexed_colors = list(enumerate(colors, start=1))\n",
    "print(indexed_colors)\n",
    "# [(1, 'red'), (2, 'green'), (3, 'blue')]\n"
   ]
  },
  {
   "cell_type": "code",
   "execution_count": null,
   "id": "4f85f052",
   "metadata": {},
   "outputs": [],
   "source": []
  }
 ],
 "metadata": {
  "kernelspec": {
   "display_name": ".venv",
   "language": "python",
   "name": "python3"
  },
  "language_info": {
   "codemirror_mode": {
    "name": "ipython",
    "version": 3
   },
   "file_extension": ".py",
   "mimetype": "text/x-python",
   "name": "python",
   "nbconvert_exporter": "python",
   "pygments_lexer": "ipython3",
   "version": "3.13.5"
  }
 },
 "nbformat": 4,
 "nbformat_minor": 5
}

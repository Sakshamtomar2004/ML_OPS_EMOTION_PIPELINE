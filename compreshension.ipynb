{
 "cells": [
  {
   "cell_type": "code",
   "execution_count": 2,
   "id": "f0d5a302",
   "metadata": {},
   "outputs": [],
   "source": [
    "numbers=[1,2,3,4,5]\n",
    "squared_numbers=[]\n",
    "\n",
    "for x in numbers:\n",
    "    squared_numbers.append(x**2)\n"
   ]
  },
  {
   "cell_type": "code",
   "execution_count": 3,
   "id": "aa450fac",
   "metadata": {},
   "outputs": [
    {
     "data": {
      "text/plain": [
       "[1, 4, 9, 16, 25]"
      ]
     },
     "execution_count": 3,
     "metadata": {},
     "output_type": "execute_result"
    }
   ],
   "source": [
    "squared_numbers"
   ]
  },
  {
   "cell_type": "code",
   "execution_count": 4,
   "id": "fb5d3b23",
   "metadata": {},
   "outputs": [],
   "source": [
    "squared_numbers=[num*num for num in numbers]"
   ]
  },
  {
   "cell_type": "code",
   "execution_count": 5,
   "id": "c1a769fe",
   "metadata": {},
   "outputs": [],
   "source": [
    "even_squares=[num*num for num in numbers if num%2==0]"
   ]
  },
  {
   "cell_type": "code",
   "execution_count": 6,
   "id": "5e299936",
   "metadata": {},
   "outputs": [
    {
     "data": {
      "text/plain": [
       "[4, 16]"
      ]
     },
     "execution_count": 6,
     "metadata": {},
     "output_type": "execute_result"
    }
   ],
   "source": [
    "even_squares"
   ]
  },
  {
   "cell_type": "code",
   "execution_count": 7,
   "id": "43c60254",
   "metadata": {},
   "outputs": [
    {
     "name": "stdout",
     "output_type": "stream",
     "text": [
      "[[1.2, 3.4, 2.1], [2.1, 1.8, 3.3], [0.9, 2.7, 1.5]]\n"
     ]
    }
   ],
   "source": [
    "# Sample data structure (common in audio processing)\n",
    "features = [\n",
    "    {\"mfccs\": [1.2, 3.4, 2.1], \"filename\": \"audio1.wav\"},\n",
    "    {\"mfccs\": [2.1, 1.8, 3.3], \"filename\": \"audio2.wav\"},\n",
    "    {\"mfccs\": [0.9, 2.7, 1.5], \"filename\": \"audio3.wav\"}\n",
    "]\n",
    "\n",
    "# Extract all MFCC features\n",
    "mfcc_features = [f['mfccs'] for f in features]\n",
    "print(mfcc_features)\n",
    "# Output: [[1.2, 3.4, 2.1], [2.1, 1.8, 3.3], [0.9, 2.7, 1.5]]\n"
   ]
  },
  {
   "cell_type": "code",
   "execution_count": 8,
   "id": "c7a6fa40",
   "metadata": {},
   "outputs": [],
   "source": [
    "mfcc_features = []\n",
    "for f in features:\n",
    "    mfcc_features.append(f['mfccs'])\n"
   ]
  },
  {
   "cell_type": "code",
   "execution_count": 9,
   "id": "bf35da72",
   "metadata": {},
   "outputs": [],
   "source": [
    "import numpy as np\n",
    "\n",
    "X_mfcc = np.array([f['mfccs'] for f in features])\n"
   ]
  },
  {
   "cell_type": "code",
   "execution_count": 10,
   "id": "87e7cd6a",
   "metadata": {},
   "outputs": [
    {
     "data": {
      "text/plain": [
       "array([[1.2, 3.4, 2.1],\n",
       "       [2.1, 1.8, 3.3],\n",
       "       [0.9, 2.7, 1.5]])"
      ]
     },
     "execution_count": 10,
     "metadata": {},
     "output_type": "execute_result"
    }
   ],
   "source": [
    "X_mfcc"
   ]
  },
  {
   "cell_type": "code",
   "execution_count": null,
   "id": "6e1b1660",
   "metadata": {},
   "outputs": [],
   "source": []
  }
 ],
 "metadata": {
  "kernelspec": {
   "display_name": ".venv",
   "language": "python",
   "name": "python3"
  },
  "language_info": {
   "codemirror_mode": {
    "name": "ipython",
    "version": 3
   },
   "file_extension": ".py",
   "mimetype": "text/x-python",
   "name": "python",
   "nbconvert_exporter": "python",
   "pygments_lexer": "ipython3",
   "version": "3.13.5"
  }
 },
 "nbformat": 4,
 "nbformat_minor": 5
}
